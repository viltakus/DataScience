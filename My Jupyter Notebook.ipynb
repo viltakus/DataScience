{
 "cells": [
  {
   "cell_type": "markdown",
   "id": "00b473f9-3ec6-4568-bf41-159d7aac9ea3",
   "metadata": {},
   "source": [
    "# My Jupyter Notebook on Jupyter Labs"
   ]
  },
  {
   "cell_type": "markdown",
   "id": "57af1563-d410-4452-9f24-b7a95edeaa40",
   "metadata": {},
   "source": [
    "**Viltenis Zilys** <br>\n",
    "Genetics Student"
   ]
  },
  {
   "cell_type": "markdown",
   "id": "d3780afc-fb1a-4912-9582-7e449763b6ec",
   "metadata": {},
   "source": [
    "*I am interested in data science because I believe there is great benefit in the ability to manage and extract information from seemingly randomly distributed data, as this extends our pattern recognition ability greatly. I believe and know this can be applied to genetics and molecular sciences as the generation of data in those fields is growing exponentially.*"
   ]
  },
  {
   "cell_type": "markdown",
   "id": "ff970f40-d30e-4d90-ad4a-2d1e5fe5b277",
   "metadata": {},
   "source": [
    "##### This code prints a list containing multiples of 3 from the range of 20 numbers using a list comprehention:"
   ]
  },
  {
   "cell_type": "code",
   "execution_count": 1,
   "id": "349151a1-7cd2-4a9d-92a5-074abc33e573",
   "metadata": {
    "tags": []
   },
   "outputs": [
    {
     "name": "stdout",
     "output_type": "stream",
     "text": [
      "[3, 6, 9, 12, 15, 18]\n"
     ]
    }
   ],
   "source": [
    "multiples_of_three = [x for x in range(1, 21) if x%3==0]\n",
    "print(multiples_of_three)"
   ]
  },
  {
   "cell_type": "markdown",
   "id": "2f612a80-2cea-44f5-9551-0cc59fea9869",
   "metadata": {},
   "source": [
    "---\n",
    "\n",
    "What do these mathematical symbols mean:\n",
    "- \"$\\sum$\"?\n",
    "- \"$\\prod$\"?\n",
    "- \"$\\nabla$\"?\n",
    "\n",
    "|Symbol|Meaning|\n",
    "|-|-:|\n",
    "|$\\sum$|Sum|\n",
    "|$\\prod$|Product|\n",
    "|$\\nabla$|Vector Differential|\n",
    "\n",
    "More on these symbols can be found [HERE](https://en.wikipedia.org/wiki/Glossary_of_mathematical_symbols)."
   ]
  }
 ],
 "metadata": {
  "kernelspec": {
   "display_name": "Python 3 (ipykernel)",
   "language": "python",
   "name": "python3"
  },
  "language_info": {
   "codemirror_mode": {
    "name": "ipython",
    "version": 3
   },
   "file_extension": ".py",
   "mimetype": "text/x-python",
   "name": "python",
   "nbconvert_exporter": "python",
   "pygments_lexer": "ipython3",
   "version": "3.10.1"
  }
 },
 "nbformat": 4,
 "nbformat_minor": 5
}
