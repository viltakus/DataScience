{
 "cells": [
  {
   "cell_type": "markdown",
   "id": "59cab281-2f85-4935-926f-a51b07ab8990",
   "metadata": {},
   "source": [
    "# DataScienceEcosystem"
   ]
  },
  {
   "cell_type": "markdown",
   "id": "a8e47380-4f75-4a0c-a5e7-6bf203c098a9",
   "metadata": {
    "tags": []
   },
   "source": [
    "In this notebook, Data Science Tools and Ecosystem are summarized."
   ]
  },
  {
   "cell_type": "markdown",
   "id": "9e11f1ec-b1f1-4050-a842-cde913873e72",
   "metadata": {},
   "source": [
    "Some of the popular languages that Data Scientists use are:\n",
    "1. Python\n",
    "2. R\n",
    "3. SQL"
   ]
  },
  {
   "cell_type": "markdown",
   "id": "69964b62-94ae-4e0d-8667-5749dd5aa06a",
   "metadata": {},
   "source": [
    "Some of the commonly used libraries used by Data Scientists include:\n",
    "1. sklearn\n",
    "2. pandas\n",
    "3. numpy"
   ]
  },
  {
   "cell_type": "markdown",
   "id": "61b73d29-aa65-4c21-b282-d3d2905ac831",
   "metadata": {
    "tags": []
   },
   "source": [
    "Data Science Tools\n",
    "1. Jupyter Labs\n",
    "2. Spyder\n",
    "3. PyCharm"
   ]
  },
  {
   "cell_type": "markdown",
   "id": "662dcce6-6a95-4af4-bbeb-97e35bb53746",
   "metadata": {},
   "source": [
    "### Below are a few examples of evaluating arithmetic expressions in Python\n",
    "5+8 <br>\n",
    "3-2"
   ]
  },
  {
   "cell_type": "code",
   "execution_count": 3,
   "id": "820c0913-40df-4e1e-8122-716f5fdb9f5e",
   "metadata": {
    "tags": []
   },
   "outputs": [
    {
     "data": {
      "text/plain": [
       "17"
      ]
     },
     "execution_count": 3,
     "metadata": {},
     "output_type": "execute_result"
    }
   ],
   "source": [
    "# This a simple arithmetic expression to mutiply then add integers\n",
    "(3*4)+5"
   ]
  },
  {
   "cell_type": "code",
   "execution_count": 4,
   "id": "9e3e6e33-54a6-4b0b-9eff-d2b7b0022183",
   "metadata": {
    "tags": []
   },
   "outputs": [
    {
     "data": {
      "text/plain": [
       "3.3333333333333335"
      ]
     },
     "execution_count": 4,
     "metadata": {},
     "output_type": "execute_result"
    }
   ],
   "source": [
    "# This will convert 200 minutes to hours by diving by 60\n",
    "200/60"
   ]
  },
  {
   "cell_type": "markdown",
   "id": "861717ff-a4be-41d0-bb80-1ec5729bd945",
   "metadata": {},
   "source": [
    "***Objectives:***\n",
    "- List popular languages for Data Science\n",
    "- List Popular environments\n",
    "- List popular libraries"
   ]
  },
  {
   "cell_type": "markdown",
   "id": "9f5dddc6-89ee-4cdb-bf18-496c8e5be0ec",
   "metadata": {},
   "source": [
    "## Author \n",
    "Viltenis Zilys"
   ]
  }
 ],
 "metadata": {
  "kernelspec": {
   "display_name": "Python 3 (ipykernel)",
   "language": "python",
   "name": "python3"
  },
  "language_info": {
   "codemirror_mode": {
    "name": "ipython",
    "version": 3
   },
   "file_extension": ".py",
   "mimetype": "text/x-python",
   "name": "python",
   "nbconvert_exporter": "python",
   "pygments_lexer": "ipython3",
   "version": "3.10.1"
  }
 },
 "nbformat": 4,
 "nbformat_minor": 5
}
